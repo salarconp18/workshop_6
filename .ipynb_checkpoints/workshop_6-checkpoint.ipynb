{
 "cells": [
  {
   "cell_type": "markdown",
   "id": "cd65938d-3f13-4f8a-9751-003910d9a3a7",
   "metadata": {},
   "source": [
    "hola mundo"
   ]
  },
  {
   "cell_type": "code",
   "execution_count": null,
   "id": "7093bfec-d0dc-45df-8937-07908ac84847",
   "metadata": {},
   "outputs": [],
   "source": []
  }
 ],
 "metadata": {
  "kernelspec": {
   "display_name": "Python 3 (ipykernel)",
   "language": "python",
   "name": "python3"
  },
  "language_info": {
   "codemirror_mode": {
    "name": "ipython",
    "version": 3
   },
   "file_extension": ".py",
   "mimetype": "text/x-python",
   "name": "python",
   "nbconvert_exporter": "python",
   "pygments_lexer": "ipython3",
   "version": "3.11.9"
  }
 },
 "nbformat": 4,
 "nbformat_minor": 5
}
